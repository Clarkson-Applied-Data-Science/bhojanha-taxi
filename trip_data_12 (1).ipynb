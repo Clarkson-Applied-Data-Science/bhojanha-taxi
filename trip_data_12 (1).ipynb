{
  "cells": [
    {
      "cell_type": "markdown",
      "metadata": {
        "id": "627b5dd9-31f0-4504-b87d-a494cec93b43"
      },
      "source": [
        "## 1) a) Number of rows "
      ],
      "id": "627b5dd9-31f0-4504-b87d-a494cec93b43"
    },
    {
      "cell_type": "code",
      "execution_count": 1,
      "metadata": {
        "id": "ad4c32fe-a611-48d4-857e-42420883ff43",
        "colab": {
          "base_uri": "https://localhost:8080/"
        },
        "outputId": "8996397e-cc35-4ba8-a240-e7cc3e723429"
      },
      "outputs": [
        {
          "output_type": "stream",
          "name": "stdout",
          "text": [
            "Drive already mounted at /content/gdrive; to attempt to forcibly remount, call drive.mount(\"/content/gdrive\", force_remount=True).\n",
            "['medallion', ' hack_license', ' vendor_id', ' rate_code', ' store_and_fwd_flag', ' pickup_datetime', ' dropoff_datetime', ' passenger_count', ' trip_time_in_secs', ' trip_distance', ' pickup_longitude', ' pickup_latitude', ' dropoff_longitude', ' dropoff_latitude']\n",
            "14\n",
            "['D7D598CD99978BD012A87A76A7C891B7', '82F90D5EFE52FDFD2FDEC3EAD6D5771D', 'VTS', '1', '', '2013-12-01 00:13:00', '2013-12-01 00:31:00', '1', '1080', '3.90', '-73.97934', '40.776653', '-73.981865', '40.73428']\n",
            "14\n"
          ]
        }
      ],
      "source": [
        "import csv\n",
        "\n",
        "from google.colab import drive\n",
        "drive.mount('/content/gdrive') \n",
        "from google.colab import files\n",
        "\n",
        "f = open('gdrive/My Drive/trip_data_12.csv', 'r')\n",
        "reader = csv.reader(f)\n",
        "n = 0\n",
        "for row in reader:\n",
        "    print(row)\n",
        "    print(len(row))\n",
        "    n+=1\n",
        "    if n ==2:\n",
        "        break\n",
        "          \n",
        "\n",
        "    "
      ],
      "id": "ad4c32fe-a611-48d4-857e-42420883ff43"
    },
    {
      "cell_type": "markdown",
      "metadata": {
        "id": "b34e68f6-f6b3-4c8d-b808-1e52aac2e57b"
      },
      "source": [
        "## 1) b) Date time range"
      ],
      "id": "b34e68f6-f6b3-4c8d-b808-1e52aac2e57b"
    },
    {
      "cell_type": "code",
      "execution_count": 2,
      "metadata": {
        "id": "38f077e8-5df5-49a4-8db2-9914f46a5ff8",
        "colab": {
          "base_uri": "https://localhost:8080/"
        },
        "outputId": "53a72cec-8ac8-4bb3-f84b-efece50ae84e"
      },
      "outputs": [
        {
          "output_type": "stream",
          "name": "stdout",
          "text": [
            "Drive already mounted at /content/gdrive; to attempt to forcibly remount, call drive.mount(\"/content/gdrive\", force_remount=True).\n"
          ]
        }
      ],
      "source": [
        "import csv\n",
        "\n",
        "from google.colab import drive\n",
        "drive.mount('/content/gdrive') \n",
        "from google.colab import files\n",
        "lst =[]\n",
        "f = open('gdrive/My Drive/trip_data_12.csv', 'r')\n",
        "reader = csv.reader(f)\n",
        "import datetime\n",
        "minval = None\n",
        "maxval = None\n",
        "n = 0\n",
        "for row in reader:\n",
        "    if n > 0:\n",
        "        dto = None\n",
        "        dts = row[5]\n",
        "        try:\n",
        "            dto = datetime.datetime.strptime(dts,\"%Y-%m-%d %H:%M:%S\")\n",
        "        except Exception as e:\n",
        "            print(e)\n",
        "        if dto is not None:\n",
        "            if maxval is None or dto > maxval:\n",
        "                maxval = dto\n",
        "            elif minval is None or dto < minval:\n",
        "                minval = dto\n",
        "    n+=1\n",
        "lst.append(minval)\n",
        "lst.append(maxval)"
      ],
      "id": "38f077e8-5df5-49a4-8db2-9914f46a5ff8"
    },
    {
      "cell_type": "code",
      "execution_count": null,
      "metadata": {
        "id": "cb034ca8-6279-4a65-bf3d-14d0caaf3869",
        "colab": {
          "base_uri": "https://localhost:8080/"
        },
        "outputId": "e9c05a91-3850-45b4-8b54-c60268bf9140"
      },
      "outputs": [
        {
          "output_type": "stream",
          "name": "stdout",
          "text": [
            "Drive already mounted at /content/gdrive; to attempt to forcibly remount, call drive.mount(\"/content/gdrive\", force_remount=True).\n"
          ]
        }
      ],
      "source": [
        "import datetime,csv\n",
        "\n",
        "import csv\n",
        "\n",
        "from google.colab import drive\n",
        "drive.mount('/content/gdrive') \n",
        "from google.colab import files\n",
        "\n",
        "f = open('gdrive/My Drive/trip_data_12.csv', 'r')\n",
        "reader = csv.reader(f)\n",
        "minval = None\n",
        "maxval = None\n",
        "n = 0\n",
        "for row in reader:\n",
        "    if n > 0:\n",
        "        dto = None\n",
        "        dts = row[6]\n",
        "        try:\n",
        "            dto = datetime.datetime.strptime(dts,\"%Y-%m-%d %H:%M:%S\")\n",
        "        except Exception as e:\n",
        "            print(e)\n",
        "        if dto is not None:\n",
        "            if maxval is None or dto > maxval:\n",
        "                maxval = dto\n",
        "            elif minval is None or dto < minval:\n",
        "                minval = dto\n",
        "    n+=1\n",
        "lst.append(minval)\n",
        "lst.append(maxval)\n",
        "print(lst)"
      ],
      "id": "cb034ca8-6279-4a65-bf3d-14d0caaf3869"
    },
    {
      "cell_type": "code",
      "execution_count": null,
      "metadata": {
        "id": "5NJBqtWEtUF1"
      },
      "outputs": [],
      "source": [
        "print(max(lst), min(lst))"
      ],
      "id": "5NJBqtWEtUF1"
    },
    {
      "cell_type": "markdown",
      "metadata": {
        "id": "c1db87c3-9fc2-46a3-95d8-a3e01f8e997f"
      },
      "source": [
        "## Part 2) "
      ],
      "id": "c1db87c3-9fc2-46a3-95d8-a3e01f8e997f"
    },
    {
      "cell_type": "code",
      "execution_count": null,
      "metadata": {
        "id": "nZclmIrHT9uc"
      },
      "outputs": [],
      "source": [
        "import csv\n",
        "\n",
        "from google.colab import drive\n",
        "drive.mount('/content/gdrive') \n",
        "from google.colab import files\n",
        "\n",
        "f = open('gdrive/My Drive/trip_data_12.csv', 'r')\n",
        "reader = csv.reader(f)\n",
        "ct=0\n",
        "for row in reader:\n",
        "  ct+=1\n",
        "print(ct)\n",
        "  \n"
      ],
      "id": "nZclmIrHT9uc"
    },
    {
      "cell_type": "markdown",
      "metadata": {
        "id": "2_8B2lajMZed"
      },
      "source": [
        "###Part 3) & Part 4)"
      ],
      "id": "2_8B2lajMZed"
    },
    {
      "cell_type": "code",
      "execution_count": null,
      "metadata": {
        "id": "c74fruRLNKvt"
      },
      "outputs": [],
      "source": [
        "import csv\n",
        "\n",
        "from google.colab import drive\n",
        "drive.mount('/content/gdrive') \n",
        "from google.colab import files\n",
        "\n",
        "f = open('gdrive/My Drive/trip_data_12.csv', 'r')\n",
        "reader = csv.reader(f)\n",
        "n=0\n",
        "for row in reader:\n",
        "  for i in range(14):\n",
        "    if i!=13:\n",
        "      print(row[i], end='|')\n",
        "    else:\n",
        "      print(row[i])\n",
        "  \n",
        "  if n ==0:\n",
        "    print('---------------------------|'*14)\n",
        "  n+=1\n",
        "  if n==5:\n",
        "    break"
      ],
      "id": "c74fruRLNKvt"
    },
    {
      "cell_type": "markdown",
      "metadata": {
        "id": "g-ZiBJ2ES1nK"
      },
      "source": [
        "medallion| hack_license| vendor_id| rate_code| store_and_fwd_flag| pickup_datetime| dropoff_datetime| passenger_count| trip_time_in_secs| trip_distance| pickup_longitude| pickup_latitude| dropoff_longitude| dropoff_latitude\n",
        "---------------------------|---------------------------|---------------------------|---------------------------|---------------------------|---------------------------|---------------------------|---------------------------|---------------------------|---------------------------|---------------------------|---------------------------|---------------------------|\n",
        "D1C79CF706C80D3A1DC7FBCA6CD56E43|DAC7742E8F00034774098DBC6B4FF2B7|CMT|1|N|2013-06-03 00:02:12|2013-06-03 00:10:07|1|474|1.30|-73.981583|40.773529|-73.981827|40.782124\n",
        "3567E8B49FEBFCBB587F1864D723D5C8|430B8022563CDE1D51D44786DFD8D6CB|CMT|1|N|2013-06-03 00:03:03|2013-06-03 00:19:27|1|982|4.90|-73.999565|40.728367|-73.952927|40.729546\n",
        "4220E1995D36A40DF34664AD33ED13F6|48A1C9C9300AFC7BDBB718CE308EE45A|CMT|2|N|2013-06-03 00:01:30|2013-06-03 00:28:11|1|1745|17.70|-73.788445|40.641151|-73.985451|40.744194\n",
        "440900089FF528A873424DED689C77A3|E6A63B40E565A8A03AF32E0B138F5EB1|CMT|1|N|2013-06-03 00:04:14|2013-06-03 00:27:50|1|1415|12.10|-73.862816|40.768875|-74.008797|40.738842\n",
        "\n",
        "```\n",
        "# This is formatted as code\n",
        "```\n",
        "\n"
      ],
      "id": "g-ZiBJ2ES1nK"
    },
    {
      "cell_type": "markdown",
      "metadata": {
        "id": "h7rhMBaINnt5"
      },
      "source": [
        "###Part 5)"
      ],
      "id": "h7rhMBaINnt5"
    },
    {
      "cell_type": "code",
      "execution_count": null,
      "metadata": {
        "id": "ckXqchW9PFtR"
      },
      "outputs": [],
      "source": [
        "import csv\n",
        "\n",
        "from google.colab import drive\n",
        "drive.mount('/content/gdrive') \n",
        "from google.colab import files\n",
        "f = open('gdrive/My Drive/trip_data_12.csv', 'r')\n",
        "reader = csv.reader(f)\n",
        "mlong = 0\n",
        "nlong = 0\n",
        "mlat = 0 \n",
        "nlat = 0\n",
        "ex =0\n",
        "for row in reader:\n",
        "  try:\n",
        "    if float(row[10]) >= float(row[12]) and float(row[10]) >= mlong:\n",
        "      mlong = float(row[10])\n",
        "    elif float(row[10]) <= float(row[12]) and float(row[10]) <= nlong:\n",
        "      nlong = float(row[10])\n",
        "    elif float(row[12]) >= float(row[10]) and float(row[12]) >= mlong:\n",
        "      mlong = float(row[12])\n",
        "    elif float(row[12]) <= float(row[10]) and float(row[12]) <= nlong:\n",
        "      nlong = float(row[12])\n",
        "    \n",
        "    if float(row[11]) >= float(row[13]) and float(row[11]) >= mlat:\n",
        "      mlat = float(row[11])\n",
        "    elif float(row[11]) <= float(row[13]) and float(row[11]) <= nlat:\n",
        "      nlat = float(row[11])\n",
        "    elif float(row[13]) >= float(row[11]) and float(row[13]) >= mlat:\n",
        "      mlat = float(row[13])\n",
        "    elif float(row[13]) <= float(row[11]) and float(row[13]) <= nlat:\n",
        "      nlat = float(row[13])\n",
        "  except Exception as e:\n",
        "    ex+=1\n",
        "\n",
        "\n",
        "print(ex, mlong,nlong, mlat,nlat)\n"
      ],
      "id": "ckXqchW9PFtR"
    },
    {
      "cell_type": "markdown",
      "metadata": {
        "id": "GZcC6joBgUEi"
      },
      "source": [
        "### Part 6)"
      ],
      "id": "GZcC6joBgUEi"
    },
    {
      "cell_type": "code",
      "execution_count": null,
      "metadata": {
        "id": "45de5fcd-d52b-4ea5-a20a-def010f9b232"
      },
      "outputs": [],
      "source": [
        "\n",
        "from math import radians, cos, sin, asin, sqrt\n",
        "\n",
        "import csv\n",
        "\n",
        "from google.colab import drive\n",
        "drive.mount('/content/gdrive') \n",
        "from google.colab import files\n",
        "\n",
        "\n",
        "f = open('gdrive/My Drive/trip_data_12.csv', 'r')\n",
        "reader = csv.reader(f)\n",
        "\n",
        "def haversine(lon1, lat1, lon2, lat2):\n",
        "    \"\"\"\n",
        "    Calculate the great circle distance in kilometers between two points \n",
        "    on the earth (specified in decimal degrees)\n",
        "    \"\"\"\n",
        "    \n",
        "    lon1, lat1, lon2, lat2 = map(radians, [lon1, lat1, lon2, lat2])\n",
        "\n",
        "    \n",
        "    dlon = lon2 - lon1 \n",
        "    dlat = lat2 - lat1 \n",
        "    a = sin(dlat/2)**2 + cos(lat1) * cos(lat2) * sin(dlon/2)**2\n",
        "    c = 2 * asin(sqrt(a)) \n",
        "    r = 6371 \n",
        "    return c * r\n",
        "\n",
        "\n",
        "n=0\n",
        "hd = 0.0\n",
        "ex_dp =0\n",
        "x = []\n",
        "for row in reader:\n",
        "  n+=1\n",
        "  try:\n",
        "    a,b,c,d = float(row[10]),float(row[11]),float(row[12]),float(row[13])\n",
        "    hd += haversine(a,b,c,d)\n",
        "    \n",
        "    x.append(haversine(float(row[10]),float(row[11]),float(row[12]),float(row[13])))\n",
        "  except Exception as e:\n",
        "    ex_dp +=1\n",
        "    \n",
        "       \n",
        "\n",
        "    "
      ],
      "id": "45de5fcd-d52b-4ea5-a20a-def010f9b232"
    },
    {
      "cell_type": "code",
      "execution_count": null,
      "metadata": {
        "id": "84f27182-db74-48f6-978e-b55fcea0c257"
      },
      "outputs": [],
      "source": [
        "\n",
        "print(\"Average Haversine Distance =\", hd/(n-ex_dp) )\n"
      ],
      "id": "84f27182-db74-48f6-978e-b55fcea0c257"
    },
    {
      "cell_type": "code",
      "execution_count": null,
      "metadata": {
        "id": "pgfOqyGWbqCA"
      },
      "outputs": [],
      "source": [
        "print(x[:5])\n",
        "mx = max(x)\n",
        "mn = min(x)\n",
        "print(mx,mn)"
      ],
      "id": "pgfOqyGWbqCA"
    },
    {
      "cell_type": "code",
      "execution_count": null,
      "metadata": {
        "id": "ba3ff8d6-840c-4f80-b8a7-5906d437c2ee"
      },
      "outputs": [],
      "source": [
        "print(x[:5])\n",
        "\n",
        "from matplotlib import pyplot as plt\n",
        "plt.style.use('seaborn')\n",
        "import numpy as np\n",
        " \n",
        "\n",
        "fig, ax = plt.subplots(figsize =(10, 7))\n",
        "ax.hist(x, bins = [0,5,10,15,20,25,30])\n",
        " \n",
        "\n",
        "plt.show()\n",
        "\n",
        "fig, ax = plt.subplots(figsize =(10, 5))\n",
        "ax.hist(x, bins = [0,2500, 5000,7500,10000,12500])\n",
        " \n",
        "\n",
        "plt.show()"
      ],
      "id": "ba3ff8d6-840c-4f80-b8a7-5906d437c2ee"
    },
    {
      "cell_type": "markdown",
      "metadata": {
        "id": "e4bIf70JZvNt"
      },
      "source": [
        "##Part 7)"
      ],
      "id": "e4bIf70JZvNt"
    },
    {
      "cell_type": "code",
      "execution_count": null,
      "metadata": {
        "id": "tMm9b8DRZ3XI"
      },
      "outputs": [],
      "source": [
        "from math import radians, cos, sin, asin, sqrt\n",
        "\n",
        "import csv\n",
        "\n",
        "from google.colab import drive\n",
        "drive.mount('/content/gdrive') \n",
        "from google.colab import files\n",
        "n=0\n",
        "med = dict()\n",
        "hack_l = dict()\n",
        "vid = dict()\n",
        "rc= dict()\n",
        "snff= dict()\n",
        "pc = dict()\n",
        "tt = dict()\n",
        "f = open('gdrive/My Drive/trip_data_12.csv', 'r')\n",
        "reader = csv.reader(f)\n",
        "for row in reader:\n",
        "  if row[0] in med:\n",
        "    med[row[0]]+=1\n",
        "  else:\n",
        "    med[row[0]]=1\n",
        "\n",
        "  if row[1] in hack_l:\n",
        "    hack_l[row[1]]+=1\n",
        "  else:\n",
        "    hack_l[row[1]]=1\n",
        "\n",
        "  if row[2] in vid:\n",
        "    vid[row[2]]+=1\n",
        "  else:\n",
        "    vid[row[2]]=1\n",
        "\n",
        "  if row[3] in rc:\n",
        "    rc[row[3]]+=1\n",
        "  else:\n",
        "    rc[row[3]]=1\n",
        "\n",
        "  if row[4] in snff:\n",
        "    snff[row[4]]+=1\n",
        "  else:\n",
        "    snff[row[4]]=1\n",
        "\n",
        "  if row[7] in pc:\n",
        "    pc[row[7]]+=1\n",
        "  else:\n",
        "    pc[row[7]]=1\n",
        "  \n",
        "  if row[8] in tt:\n",
        "    tt[row[8]] +=1\n",
        "  else:\n",
        "    tt[row[8]] =1\n",
        "  n+=1\n",
        "\n",
        "print(len(med), len(hack_l), len(vid), len(rc), len(snff), len(pc),len(tt))\n"
      ],
      "id": "tMm9b8DRZ3XI"
    },
    {
      "cell_type": "code",
      "execution_count": null,
      "metadata": {
        "id": "vYRq7ilAaY40"
      },
      "outputs": [],
      "source": [
        "import csv\n",
        "\n",
        "from google.colab import drive\n",
        "drive.mount('/content/gdrive') \n",
        "from google.colab import files\n",
        "f = open('gdrive/My Drive/trip_data_12.csv', 'r')\n",
        "reader = csv.reader(f)\n",
        "\n",
        "td_9 = dict()\n",
        "plong_10 = dict()\n",
        "plat_11 = dict()\n",
        "dlong_12 = dict()\n",
        "dlat_13 = dict()\n",
        "for row in reader:\n",
        "  if row[9] in td_9:\n",
        "    td_9[row[9]]+=1\n",
        "  else:\n",
        "    td_9[row[9]]=1 \n",
        "\n",
        "  if row[10] in plong_10:\n",
        "    plong_10[row[10]]+=1\n",
        "  else:\n",
        "    plong_10[row[10]]=1 \n",
        "\n",
        "  if row[11] in plat_11:\n",
        "    plat_11[row[11]]+=1\n",
        "  else:\n",
        "    plat_11[row[11]]=1\n",
        "\n",
        "  if row[12] in dlong_12:\n",
        "    dlong_12[row[12]]+=1\n",
        "  else:\n",
        "    dlong_12[row[12]]=1\n",
        "\n",
        "  if row[13] in dlat_13:\n",
        "    dlat_13[row[13]]+=1\n",
        "  else:\n",
        "    dlat_13[row[13]]=1\n",
        "\n",
        "print(len(td_9),len(plong_10),len(plat_11),len(dlong_12),len(dlat_13))"
      ],
      "id": "vYRq7ilAaY40"
    },
    {
      "cell_type": "code",
      "execution_count": null,
      "metadata": {
        "id": "3IEbWsxSnXD3"
      },
      "outputs": [],
      "source": [
        "print(rc)"
      ],
      "id": "3IEbWsxSnXD3"
    },
    {
      "cell_type": "markdown",
      "metadata": {
        "id": "kza1-oS18dmv"
      },
      "source": [
        "### Part 8"
      ],
      "id": "kza1-oS18dmv"
    },
    {
      "cell_type": "code",
      "execution_count": null,
      "metadata": {
        "id": "ofgpEERasnIa"
      },
      "outputs": [],
      "source": [
        "import csv\n",
        "\n",
        "from google.colab import drive\n",
        "drive.mount('/content/gdrive') \n",
        "from google.colab import files\n",
        "f = open('gdrive/My Drive/trip_data_12.csv', 'r')\n",
        "reader = csv.reader(f)"
      ],
      "id": "ofgpEERasnIa"
    },
    {
      "cell_type": "code",
      "execution_count": null,
      "metadata": {
        "id": "9j1OV3ot9J1A"
      },
      "outputs": [],
      "source": [
        "min_rc = 0\n",
        "max_rc = 0\n",
        "min_pc= 0\n",
        "max_pc = 0\n",
        "min_tis = 0\n",
        "max_tis= 0\n",
        "min_td = 0\n",
        "max_td = 0\n",
        "n=0\n",
        "for row in reader:\n",
        "  \n",
        "  n+=1\n",
        "  try:\n",
        "    if int(row[3]) <= min_rc or min_rc ==0:\n",
        "      min_rc = int(row[3])\n",
        "    if int(row[3]) >= max_rc or max_rc ==0:\n",
        "      max_rc = int(row[3])\n",
        "  except Exception as e:\n",
        "    print(e)\n",
        "  try:\n",
        "    if int(row[7]) <= min_pc or min_pc ==0:\n",
        "      min_pc = int(row[7])\n",
        "    if int(row[7]) >= max_pc or max_pc ==0:\n",
        "      max_pc = int(row[7])\n",
        "  except Exception as e:\n",
        "    print(e)\n",
        "  try:\n",
        "    if int(row[8]) <= min_tis or min_tis ==0:\n",
        "      min_tis = int(row[8])\n",
        "    if int(row[8]) >= max_tis or max_tis ==0:\n",
        "      max_tis = int(row[8])\n",
        "  except Exception as e:\n",
        "    print(e)\n",
        "  try:\n",
        "    if float(row[9]) <= min_td or min_td ==0:\n",
        "      min_td = float(row[9])\n",
        "    if float(row[9]) >= max_tis or max_td ==0:\n",
        "      max_td = float(row[9])\n",
        "  except Exception as e:\n",
        "    print(e)\n",
        "\n",
        "\n",
        "print(n)\n",
        "\n"
      ],
      "id": "9j1OV3ot9J1A"
    },
    {
      "cell_type": "code",
      "execution_count": null,
      "metadata": {
        "id": "ENGvNcsPkxpF"
      },
      "outputs": [],
      "source": [
        "print(max_rc, min_rc)\n",
        "print(max_pc, min_pc)\n",
        "print(max_tis, min_tis)\n",
        "print(max_td, min_td)"
      ],
      "id": "ENGvNcsPkxpF"
    },
    {
      "cell_type": "markdown",
      "metadata": {
        "id": "VOXwcYNjnwDm"
      },
      "source": [
        "### Part 9"
      ],
      "id": "VOXwcYNjnwDm"
    },
    {
      "cell_type": "code",
      "execution_count": null,
      "metadata": {
        "id": "psOmkVuqk4h-"
      },
      "outputs": [],
      "source": [
        "import csv\n",
        "\n",
        "from google.colab import drive\n",
        "drive.mount('/content/gdrive') \n",
        "from google.colab import files\n",
        "f = open('gdrive/My Drive/trip_data_12.csv', 'r')\n",
        "reader = csv.reader(f)"
      ],
      "id": "psOmkVuqk4h-"
    },
    {
      "cell_type": "code",
      "execution_count": null,
      "metadata": {
        "id": "YqxDUJVtoH_O"
      },
      "outputs": [],
      "source": [
        "for row in reader:\n",
        "  print(row)\n",
        "  break"
      ],
      "id": "YqxDUJVtoH_O"
    },
    {
      "cell_type": "code",
      "execution_count": null,
      "metadata": {
        "id": "j1b37vfPpFAb"
      },
      "outputs": [],
      "source": [
        "import datetime,csv\n",
        "\n",
        "import csv\n",
        "\n",
        "from google.colab import drive\n",
        "drive.mount('/content/gdrive') \n",
        "from google.colab import files\n",
        "\n",
        "f = open('gdrive/My Drive/trip_data_12.csv', 'r')\n",
        "reader = csv.reader(f)\n",
        "exp =0\n",
        "n=0\n",
        "pcl =  [0,0,0,0,0,0,0,0,0,0,0,0,0,0,0,0,0,0,0,0,0,0,0,0]\n",
        "hc =  [0,0,0,0,0,0,0,0,0,0,0,0,0,0,0,0,0,0,0,0,0,0,0,0]\n",
        "\n",
        "for row in reader:\n",
        "  n+=1\n",
        "  try:\n",
        "    dts = row[5]\n",
        "    dto = datetime.datetime.strptime(dts,\"%Y-%m-%d %H:%M:%S\")\n",
        "  except Exception as e:\n",
        "    exp+=1\n",
        "    print(e)\n",
        "  h = dto.hour  \n",
        "  try:\n",
        "    ipc = int(row[7])    \n",
        "    hc[h]+=1\n",
        "    pcl[h]+=ipc\n",
        "  except Exception as e:\n",
        "    print(e)\n",
        "\n",
        "        \n"
      ],
      "id": "j1b37vfPpFAb"
    },
    {
      "cell_type": "code",
      "execution_count": null,
      "metadata": {
        "id": "CBC3n1uCILbQ"
      },
      "outputs": [],
      "source": [
        "averages = []\n",
        "\n",
        "for i in range(len(hc)):\n",
        "  averages.append(pcl[i] / hc[i])"
      ],
      "id": "CBC3n1uCILbQ"
    },
    {
      "cell_type": "code",
      "execution_count": null,
      "metadata": {
        "id": "6xMizOvh12_-"
      },
      "outputs": [],
      "source": [
        "\n",
        "from matplotlib import pyplot as plt\n",
        "plt.style.use('seaborn')\n",
        "import numpy as np\n",
        " \n",
        "\n",
        "plt.figure(figsize=(20,6))\n",
        "plt.xlabel('Hour of the day')\n",
        "plt.ylabel('Average number of taxi passengers')\n",
        "plt.title('Average number of taxi passengers for each hour of the day')\n",
        "plt.bar(x=range(0,24), height=averages)\n",
        "plt.show()"
      ],
      "id": "6xMizOvh12_-"
    },
    {
      "cell_type": "markdown",
      "metadata": {
        "id": "1a398964-334c-413d-b937-8ca5e3070b49"
      },
      "source": [
        "## Part 10) & Part 11)"
      ],
      "id": "1a398964-334c-413d-b937-8ca5e3070b49"
    },
    {
      "cell_type": "code",
      "execution_count": null,
      "metadata": {
        "id": "25549ff6-8073-45d2-acf6-1207c5d4fa14"
      },
      "outputs": [],
      "source": [
        "import csv\n",
        "from google.colab import drive\n",
        "drive.mount('/content/gdrive') \n",
        "from google.colab import files\n",
        "f = open('gdrive/My Drive/trip_data_12.csv', 'r')\n",
        "reader = csv.reader(f)\n",
        "fnew = open('new.csv', 'w')\n",
        "fnew.write('')\n",
        "fnew.close()\n",
        "fnew = open('new.csv', 'w')\n",
        "writer = csv.writer(fnew,delimiter=',',lineterminator='\\n')\n",
        "\n",
        "n = 0\n",
        "nn=0\n",
        "for row in reader:\n",
        "    if n % 1000 == 0:\n",
        "        nn+=1\n",
        "        writer.writerow(row)\n",
        "    n+=1\n",
        "print(n,nn)\n",
        "fnew.close"
      ],
      "id": "25549ff6-8073-45d2-acf6-1207c5d4fa14"
    },
    {
      "cell_type": "code",
      "execution_count": null,
      "metadata": {
        "id": "c8cff0ac-7380-453e-8552-6850deebe558"
      },
      "outputs": [],
      "source": [
        "import csv\n",
        "\n",
        "f = open('gdrive/My Drive/new.csv', 'r')\n",
        "reader = csv.reader(f)\n",
        "for row in reader:\n",
        "    n+=1\n",
        "print(n)    "
      ],
      "id": "c8cff0ac-7380-453e-8552-6850deebe558"
    },
    {
      "cell_type": "code",
      "execution_count": null,
      "metadata": {
        "id": "2fbf40e4-f5df-407e-97eb-e5ab5f2e2cf9"
      },
      "outputs": [],
      "source": [
        "import datetime,csv\n",
        "\n",
        "exp =0\n",
        "n=0\n",
        "pcl =  [0,0,0,0,0,0,0,0,0,0,0,0,0,0,0,0,0,0,0,0,0,0,0,0]\n",
        "hc =  [0,0,0,0,0,0,0,0,0,0,0,0,0,0,0,0,0,0,0,0,0,0,0,0]\n",
        "\n",
        "f = open('gdrive/My Drive/new.csv', 'r')\n",
        "reader = csv.reader(f)\n",
        "for row in reader:\n",
        "  n+=1\n",
        "  try:\n",
        "    dts = row[5]\n",
        "    dto = datetime.datetime.strptime(dts,\"%Y-%m-%d %H:%M:%S\")\n",
        "  except Exception as e:\n",
        "    exp+=1\n",
        "    print(e)\n",
        "  h = dto.hour  \n",
        "  try:\n",
        "    ipc = int(row[7])    \n",
        "    hc[h]+=1\n",
        "    pcl[h]+=ipc\n",
        "  except Exception as e:\n",
        "    print(e)\n",
        "\n",
        "    \n"
      ],
      "id": "2fbf40e4-f5df-407e-97eb-e5ab5f2e2cf9"
    },
    {
      "cell_type": "code",
      "execution_count": null,
      "metadata": {
        "id": "c15674de-1e46-43c3-9a7e-803dc5385180"
      },
      "outputs": [],
      "source": [
        "averages = []\n",
        "\n",
        "for i in range(len(hc)):\n",
        "  averages.append(pcl[i] / hc[i])"
      ],
      "id": "c15674de-1e46-43c3-9a7e-803dc5385180"
    },
    {
      "cell_type": "code",
      "execution_count": null,
      "metadata": {
        "id": "d3eafa24-a0e2-4b3a-96ee-785005503542"
      },
      "outputs": [],
      "source": [
        "\n",
        "from matplotlib import pyplot as plt\n",
        "plt.style.use('seaborn')\n",
        "import numpy as np\n",
        " \n",
        "\n",
        "plt.figure(figsize=(20,6))\n",
        "plt.xlabel('Hour of the day')\n",
        "plt.ylabel('Average number of taxi passengers')\n",
        "plt.title('Average number of taxi passengers for each hour of the day')\n",
        "plt.bar(x=range(0,24), height=averages)\n",
        "plt.show()"
      ],
      "id": "d3eafa24-a0e2-4b3a-96ee-785005503542"
    },
    {
      "cell_type": "code",
      "execution_count": null,
      "metadata": {
        "id": "e15805b3-2b5e-4a64-9470-6a862e219587"
      },
      "outputs": [],
      "source": [
        "0%1000"
      ],
      "id": "e15805b3-2b5e-4a64-9470-6a862e219587"
    },
    {
      "cell_type": "code",
      "execution_count": null,
      "metadata": {
        "id": "0c66d2d3-78ce-46b0-a0bc-c42438d26d12"
      },
      "outputs": [],
      "source": [
        "import datetime,csv\n",
        "ml = ['12','10']\n",
        "\n",
        "\n",
        "f = open('gdrive/My Drive/new.csv', 'r')\n",
        "reader = csv.reader(f)\n",
        "\n",
        "f2 = open('oct_dec_subset.csv','w')\n",
        "f2.write('')\n",
        "f2.close()\n",
        "\n",
        "f2 = open('oct_dec_subset.csv','a')\n",
        "writer = csv.writer(f2,delimiter=',',lineterminator='\\n')\n",
        "for i, row in enumerate(reader):\n",
        "    if i > 0:\n",
        "        dt = row[4].split('/')\n",
        "        ms = dt[0]\n",
        "        if ms in ml:\n",
        "            writer.writerow(row)\n",
        "    else:\n",
        "        writer.writerow(row)\n",
        "f.close()\n",
        "f2.close()"
      ],
      "id": "0c66d2d3-78ce-46b0-a0bc-c42438d26d12"
    }
  ],
  "metadata": {
    "colab": {
      "collapsed_sections": [],
      "provenance": []
    },
    "kernelspec": {
      "display_name": "Python 3 (ipykernel)",
      "language": "python",
      "name": "python3"
    },
    "language_info": {
      "codemirror_mode": {
        "name": "ipython",
        "version": 3
      },
      "file_extension": ".py",
      "mimetype": "text/x-python",
      "name": "python",
      "nbconvert_exporter": "python",
      "pygments_lexer": "ipython3",
      "version": "3.10.6"
    }
  },
  "nbformat": 4,
  "nbformat_minor": 5
}