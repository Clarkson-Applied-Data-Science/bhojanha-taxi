{
  "cells": [
    {
      "cell_type": "markdown",
      "metadata": {
        "id": "627b5dd9-31f0-4504-b87d-a494cec93b43"
      },
      "source": [
        "## 1) a) Number of rows "
      ],
      "id": "627b5dd9-31f0-4504-b87d-a494cec93b43"
    },
    {
      "cell_type": "code",
      "execution_count": null,
      "metadata": {
        "colab": {
          "base_uri": "https://localhost:8080/"
        },
        "id": "ad4c32fe-a611-48d4-857e-42420883ff43",
        "outputId": "49c878ba-0666-430c-9f34-e19b7749fc21"
      },
      "outputs": [
        {
          "output_type": "stream",
          "name": "stdout",
          "text": [
            "Mounted at /content/gdrive\n",
            "['medallion', ' hack_license', ' vendor_id', ' rate_code', ' store_and_fwd_flag', ' pickup_datetime', ' dropoff_datetime', ' passenger_count', ' trip_time_in_secs', ' trip_distance', ' pickup_longitude', ' pickup_latitude', ' dropoff_longitude', ' dropoff_latitude']\n",
            "14\n",
            "['D7D598CD99978BD012A87A76A7C891B7', '82F90D5EFE52FDFD2FDEC3EAD6D5771D', 'VTS', '1', '', '2013-12-01 00:13:00', '2013-12-01 00:31:00', '1', '1080', '3.90', '-73.97934', '40.776653', '-73.981865', '40.73428']\n",
            "14\n"
          ]
        }
      ],
      "source": [
        "import csv\n",
        "#https://drive.google.com/file/d/13gclMmH86q8pwj0qUfTbAjl595B2rov6/view?usp=sharing\n",
        "from google.colab import drive\n",
        "drive.mount('/content/gdrive') \n",
        "from google.colab import files\n",
        "#uploaded = files.upload()\n",
        "#import io\n",
        "#reader = pd.read_csv(io.BytesIO(uploaded['Filename.csv']))\n",
        "\n",
        "#fn = 'trip_data_12.csv'\n",
        "\n",
        "f = open('gdrive/My Drive/trip_data_12.csv', 'r')\n",
        "reader = csv.reader(f)\n",
        "n = 0\n",
        "for row in reader:\n",
        "    print(row)\n",
        "    print(len(row))\n",
        "    n+=1\n",
        "    if n ==2:\n",
        "        break\n",
        "          \n",
        "\n",
        "    "
      ],
      "id": "ad4c32fe-a611-48d4-857e-42420883ff43"
    },
    {
      "cell_type": "markdown",
      "metadata": {
        "id": "b34e68f6-f6b3-4c8d-b808-1e52aac2e57b"
      },
      "source": [
        "## 1) b) Date time range"
      ],
      "id": "b34e68f6-f6b3-4c8d-b808-1e52aac2e57b"
    },
    {
      "cell_type": "code",
      "execution_count": null,
      "metadata": {
        "colab": {
          "base_uri": "https://localhost:8080/"
        },
        "id": "38f077e8-5df5-49a4-8db2-9914f46a5ff8",
        "outputId": "89d225e8-b349-4993-f775-ea4cfb0db638"
      },
      "outputs": [
        {
          "output_type": "stream",
          "name": "stdout",
          "text": [
            "Drive already mounted at /content/gdrive; to attempt to forcibly remount, call drive.mount(\"/content/gdrive\", force_remount=True).\n"
          ]
        }
      ],
      "source": [
        "import csv\n",
        "#https://drive.google.com/file/d/13gclMmH86q8pwj0qUfTbAjl595B2rov6/view?usp=sharing\n",
        "from google.colab import drive\n",
        "drive.mount('/content/gdrive') \n",
        "from google.colab import files\n",
        "#uploaded = files.upload()\n",
        "#import io\n",
        "#reader = pd.read_csv(io.BytesIO(uploaded['Filename.csv']))\n",
        "\n",
        "#fn = 'trip_data_12.csv'\n",
        "lst =[]\n",
        "f = open('gdrive/My Drive/trip_data_12.csv', 'r')\n",
        "reader = csv.reader(f)\n",
        "import datetime\n",
        "#fn = 'trip_data_12.csv'\n",
        "\n",
        "#f = open(fn, 'r')\n",
        "#reader = csv.reader(f)\n",
        "minval = None\n",
        "maxval = None\n",
        "n = 0\n",
        "for row in reader:\n",
        "    if n > 0:\n",
        "        dto = None\n",
        "        dts = row[5]\n",
        "        try:\n",
        "            dto = datetime.datetime.strptime(dts,\"%Y-%m-%d %H:%M:%S\")\n",
        "        except Exception as e:\n",
        "            print(e)\n",
        "        if dto is not None:\n",
        "            if maxval is None or dto > maxval:\n",
        "                maxval = dto\n",
        "            elif minval is None or dto < minval:\n",
        "                minval = dto\n",
        "    n+=1\n",
        "lst.append(minval)\n",
        "lst.append(maxval)"
      ],
      "id": "38f077e8-5df5-49a4-8db2-9914f46a5ff8"
    },
    {
      "cell_type": "code",
      "execution_count": null,
      "metadata": {
        "colab": {
          "base_uri": "https://localhost:8080/"
        },
        "id": "cb034ca8-6279-4a65-bf3d-14d0caaf3869",
        "outputId": "29152dbf-4d0c-435d-d951-b702493a50fa"
      },
      "outputs": [
        {
          "output_type": "stream",
          "name": "stdout",
          "text": [
            "Drive already mounted at /content/gdrive; to attempt to forcibly remount, call drive.mount(\"/content/gdrive\", force_remount=True).\n",
            "[datetime.datetime(2013, 12, 1, 0, 0), datetime.datetime(2013, 12, 31, 23, 59, 57), datetime.datetime(2013, 12, 1, 0, 0), datetime.datetime(2014, 1, 3, 16, 31, 27)]\n"
          ]
        }
      ],
      "source": [
        "import datetime,csv\n",
        "#fn = 'trip_data_12.csv'\n",
        "import csv\n",
        "#https://drive.google.com/file/d/13gclMmH86q8pwj0qUfTbAjl595B2rov6/view?usp=sharing\n",
        "from google.colab import drive\n",
        "drive.mount('/content/gdrive') \n",
        "from google.colab import files\n",
        "#uploaded = files.upload()\n",
        "#import io\n",
        "#reader = pd.read_csv(io.BytesIO(uploaded['Filename.csv']))\n",
        "\n",
        "#fn = 'trip_data_6.csv'\n",
        "\n",
        "f = open('gdrive/My Drive/trip_data_12.csv', 'r')\n",
        "reader = csv.reader(f)\n",
        "#f = open(fn, 'r')\n",
        "#reader = csv.reader(f)\n",
        "minval = None\n",
        "maxval = None\n",
        "n = 0\n",
        "for row in reader:\n",
        "    if n > 0:\n",
        "        dto = None\n",
        "        dts = row[6]\n",
        "        try:\n",
        "            dto = datetime.datetime.strptime(dts,\"%Y-%m-%d %H:%M:%S\")\n",
        "        except Exception as e:\n",
        "            print(e)\n",
        "        if dto is not None:\n",
        "            if maxval is None or dto > maxval:\n",
        "                maxval = dto\n",
        "            elif minval is None or dto < minval:\n",
        "                minval = dto\n",
        "    n+=1\n",
        "lst.append(minval)\n",
        "lst.append(maxval)\n",
        "print(lst)"
      ],
      "id": "cb034ca8-6279-4a65-bf3d-14d0caaf3869"
    },
    {
      "cell_type": "code",
      "execution_count": null,
      "metadata": {
        "colab": {
          "base_uri": "https://localhost:8080/"
        },
        "id": "5NJBqtWEtUF1",
        "outputId": "94efb7fa-b00b-494e-d5ec-8c39309d2276"
      },
      "outputs": [
        {
          "output_type": "stream",
          "name": "stdout",
          "text": [
            "2014-01-03 16:31:27 2013-12-01 00:00:00\n"
          ]
        }
      ],
      "source": [
        "print(max(lst), min(lst))"
      ],
      "id": "5NJBqtWEtUF1"
    },
    {
      "cell_type": "markdown",
      "metadata": {
        "id": "c1db87c3-9fc2-46a3-95d8-a3e01f8e997f"
      },
      "source": [
        "## Part 2) "
      ],
      "id": "c1db87c3-9fc2-46a3-95d8-a3e01f8e997f"
    },
    {
      "cell_type": "code",
      "execution_count": null,
      "metadata": {
        "colab": {
          "base_uri": "https://localhost:8080/"
        },
        "id": "nZclmIrHT9uc",
        "outputId": "79347396-d5e5-4a95-9ad6-f4af6b6f3f91"
      },
      "outputs": [
        {
          "output_type": "stream",
          "name": "stdout",
          "text": [
            "Drive already mounted at /content/gdrive; to attempt to forcibly remount, call drive.mount(\"/content/gdrive\", force_remount=True).\n",
            "13971119\n"
          ]
        }
      ],
      "source": [
        "import csv\n",
        "#https://drive.google.com/file/d/13gclMmH86q8pwj0qUfTbAjl595B2rov6/view?usp=sharing\n",
        "from google.colab import drive\n",
        "drive.mount('/content/gdrive') \n",
        "from google.colab import files\n",
        "#uploaded = files.upload()\n",
        "#import io\n",
        "#reader = pd.read_csv(io.BytesIO(uploaded['Filename.csv']))\n",
        "\n",
        "#fn = 'trip_data_6.csv'\n",
        "\n",
        "f = open('gdrive/My Drive/trip_data_12.csv', 'r')\n",
        "reader = csv.reader(f)\n",
        "ct=0\n",
        "for row in reader:\n",
        "  ct+=1\n",
        "print(ct)\n",
        "  \n"
      ],
      "id": "nZclmIrHT9uc"
    },
    {
      "cell_type": "markdown",
      "metadata": {
        "id": "2_8B2lajMZed"
      },
      "source": [
        "###Part 3) & Part 4)"
      ],
      "id": "2_8B2lajMZed"
    },
    {
      "cell_type": "code",
      "execution_count": null,
      "metadata": {
        "colab": {
          "base_uri": "https://localhost:8080/"
        },
        "id": "c74fruRLNKvt",
        "outputId": "774054b7-5aea-4222-ad3e-c755264787ff"
      },
      "outputs": [
        {
          "output_type": "stream",
          "name": "stdout",
          "text": [
            "Drive already mounted at /content/gdrive; to attempt to forcibly remount, call drive.mount(\"/content/gdrive\", force_remount=True).\n",
            "medallion| hack_license| vendor_id| rate_code| store_and_fwd_flag| pickup_datetime| dropoff_datetime| passenger_count| trip_time_in_secs| trip_distance| pickup_longitude| pickup_latitude| dropoff_longitude| dropoff_latitude\n",
            "---------------------------|---------------------------|---------------------------|---------------------------|---------------------------|---------------------------|---------------------------|---------------------------|---------------------------|---------------------------|---------------------------|---------------------------|---------------------------|---------------------------|\n",
            "D7D598CD99978BD012A87A76A7C891B7|82F90D5EFE52FDFD2FDEC3EAD6D5771D|VTS|1||2013-12-01 00:13:00|2013-12-01 00:31:00|1|1080|3.90|-73.97934|40.776653|-73.981865|40.73428\n",
            "5455D5FF2BD94D10B304A15D4B7F2735|177B80B867CEC990DA166BA1D0FCAF82|VTS|1||2013-12-01 00:40:00|2013-12-01 00:48:00|6|480|3.20|-73.939674|40.726154|-73.98558|40.718075\n",
            "93D6821F86A12B537C5EADBDFB432CA7|28B0AA10202F83FEB0F4E69340CA8F86|VTS|1||2013-12-01 02:21:00|2013-12-01 02:30:00|5|540|3.28|-73.958755|40.768078|-73.958755|40.768078\n",
            "0C107B532C1207A74F0D8609B9E092FF|66C2CECD93E395CB9B875E9B382DB5D9|VTS|1||2013-12-01 02:14:00|2013-12-01 02:22:00|1|480|1.84|-73.978836|40.724194|-73.979736|40.743412\n"
          ]
        }
      ],
      "source": [
        "import csv\n",
        "#https://drive.google.com/file/d/13gclMmH86q8pwj0qUfTbAjl595B2rov6/view?usp=sharing\n",
        "from google.colab import drive\n",
        "drive.mount('/content/gdrive') \n",
        "from google.colab import files\n",
        "#uploaded = files.upload()\n",
        "#import io\n",
        "#reader = pd.read_csv(io.BytesIO(uploaded['Filename.csv']))\n",
        "\n",
        "#fn = 'trip_data_6.csv'\n",
        "\n",
        "f = open('gdrive/My Drive/trip_data_12.csv', 'r')\n",
        "reader = csv.reader(f)\n",
        "n=0\n",
        "for row in reader:\n",
        "  for i in range(14):\n",
        "    if i!=13:\n",
        "      print(row[i], end='|')\n",
        "    else:\n",
        "      print(row[i])\n",
        "  \n",
        "  if n ==0:\n",
        "    print('---------------------------|'*14)\n",
        "  n+=1\n",
        "  if n==5:\n",
        "    break"
      ],
      "id": "c74fruRLNKvt"
    },
    {
      "cell_type": "markdown",
      "metadata": {
        "id": "g-ZiBJ2ES1nK"
      },
      "source": [
        "medallion| hack_license| vendor_id| rate_code| store_and_fwd_flag| pickup_datetime| dropoff_datetime| passenger_count| trip_time_in_secs| trip_distance| pickup_longitude| pickup_latitude| dropoff_longitude| dropoff_latitude\n",
        "---------------------------|---------------------------|---------------------------|---------------------------|---------------------------|---------------------------|---------------------------|---------------------------|---------------------------|---------------------------|---------------------------|---------------------------|---------------------------|\n",
        "D1C79CF706C80D3A1DC7FBCA6CD56E43|DAC7742E8F00034774098DBC6B4FF2B7|CMT|1|N|2013-06-03 00:02:12|2013-06-03 00:10:07|1|474|1.30|-73.981583|40.773529|-73.981827|40.782124\n",
        "3567E8B49FEBFCBB587F1864D723D5C8|430B8022563CDE1D51D44786DFD8D6CB|CMT|1|N|2013-06-03 00:03:03|2013-06-03 00:19:27|1|982|4.90|-73.999565|40.728367|-73.952927|40.729546\n",
        "4220E1995D36A40DF34664AD33ED13F6|48A1C9C9300AFC7BDBB718CE308EE45A|CMT|2|N|2013-06-03 00:01:30|2013-06-03 00:28:11|1|1745|17.70|-73.788445|40.641151|-73.985451|40.744194\n",
        "440900089FF528A873424DED689C77A3|E6A63B40E565A8A03AF32E0B138F5EB1|CMT|1|N|2013-06-03 00:04:14|2013-06-03 00:27:50|1|1415|12.10|-73.862816|40.768875|-74.008797|40.738842\n",
        "\n",
        "```\n",
        "# This is formatted as code\n",
        "```\n",
        "\n"
      ],
      "id": "g-ZiBJ2ES1nK"
    },
    {
      "cell_type": "markdown",
      "metadata": {
        "id": "h7rhMBaINnt5"
      },
      "source": [
        "###Part 5)"
      ],
      "id": "h7rhMBaINnt5"
    },
    {
      "cell_type": "code",
      "execution_count": null,
      "metadata": {
        "colab": {
          "base_uri": "https://localhost:8080/"
        },
        "id": "ckXqchW9PFtR",
        "outputId": "c092cb7e-cffb-4845-a499-bc5657837846"
      },
      "outputs": [
        {
          "output_type": "stream",
          "name": "stdout",
          "text": [
            "Drive already mounted at /content/gdrive; to attempt to forcibly remount, call drive.mount(\"/content/gdrive\", force_remount=True).\n",
            "113 160.84689 -736.16669 404.54999 -180.0\n"
          ]
        }
      ],
      "source": [
        "import csv\n",
        "#https://drive.google.com/file/d/13gclMmH86q8pwj0qUfTbAjl595B2rov6/view?usp=sharing\n",
        "from google.colab import drive\n",
        "drive.mount('/content/gdrive') \n",
        "from google.colab import files\n",
        "f = open('gdrive/My Drive/trip_data_12.csv', 'r')\n",
        "reader = csv.reader(f)\n",
        "mlong = 0\n",
        "nlong = 0\n",
        "mlat = 0 \n",
        "nlat = 0\n",
        "ex =0\n",
        "for row in reader:\n",
        "  try:\n",
        "    if float(row[10]) >= float(row[12]) and float(row[10]) >= mlong:\n",
        "      mlong = float(row[10])\n",
        "    elif float(row[10]) <= float(row[12]) and float(row[10]) <= nlong:\n",
        "      nlong = float(row[10])\n",
        "    elif float(row[12]) >= float(row[10]) and float(row[12]) >= mlong:\n",
        "      mlong = float(row[12])\n",
        "    elif float(row[12]) <= float(row[10]) and float(row[12]) <= nlong:\n",
        "      nlong = float(row[12])\n",
        "    \n",
        "    if float(row[11]) >= float(row[13]) and float(row[11]) >= mlat:\n",
        "      mlat = float(row[11])\n",
        "    elif float(row[11]) <= float(row[13]) and float(row[11]) <= nlat:\n",
        "      nlat = float(row[11])\n",
        "    elif float(row[13]) >= float(row[11]) and float(row[13]) >= mlat:\n",
        "      mlat = float(row[13])\n",
        "    elif float(row[13]) <= float(row[11]) and float(row[13]) <= nlat:\n",
        "      nlat = float(row[13])\n",
        "  except Exception as e:\n",
        "    ex+=1\n",
        "\n",
        "\n",
        "print(ex, mlong,nlong, mlat,nlat)\n"
      ],
      "id": "ckXqchW9PFtR"
    },
    {
      "cell_type": "markdown",
      "metadata": {
        "id": "GZcC6joBgUEi"
      },
      "source": [
        "### Part 6)"
      ],
      "id": "GZcC6joBgUEi"
    },
    {
      "cell_type": "code",
      "execution_count": null,
      "metadata": {
        "colab": {
          "base_uri": "https://localhost:8080/"
        },
        "id": "45de5fcd-d52b-4ea5-a20a-def010f9b232",
        "outputId": "aa762030-bc7f-4d2a-8b8c-1fc7fcf72727"
      },
      "outputs": [
        {
          "output_type": "stream",
          "name": "stdout",
          "text": [
            "Drive already mounted at /content/gdrive; to attempt to forcibly remount, call drive.mount(\"/content/gdrive\", force_remount=True).\n"
          ]
        }
      ],
      "source": [
        "#import csv\n",
        "from math import radians, cos, sin, asin, sqrt\n",
        "\n",
        "import csv\n",
        "#https://drive.google.com/file/d/13gclMmH86q8pwj0qUfTbAjl595B2rov6/view?usp=sharing\n",
        "from google.colab import drive\n",
        "drive.mount('/content/gdrive') \n",
        "from google.colab import files\n",
        "#uploaded = files.upload()\n",
        "#import io\n",
        "#reader = pd.read_csv(io.BytesIO(uploaded['Filename.csv']))\n",
        "\n",
        "#fn = 'trip_data_6.csv'\n",
        "\n",
        "f = open('gdrive/My Drive/trip_data_12.csv', 'r')\n",
        "reader = csv.reader(f)\n",
        "\n",
        "def haversine(lon1, lat1, lon2, lat2):\n",
        "    \"\"\"\n",
        "    Calculate the great circle distance in kilometers between two points \n",
        "    on the earth (specified in decimal degrees)\n",
        "    \"\"\"\n",
        "    # convert decimal degrees to radians \n",
        "    lon1, lat1, lon2, lat2 = map(radians, [lon1, lat1, lon2, lat2])\n",
        "\n",
        "    # haversine formula \n",
        "    dlon = lon2 - lon1 \n",
        "    dlat = lat2 - lat1 \n",
        "    a = sin(dlat/2)**2 + cos(lat1) * cos(lat2) * sin(dlon/2)**2\n",
        "    c = 2 * asin(sqrt(a)) \n",
        "    r = 6371 # Radius of earth in kilometers. Use 3956 for miles. Determines return value units.\n",
        "    return c * r\n",
        "\n",
        "\n",
        "n=0\n",
        "hd = 0.0\n",
        "ex_dp =0\n",
        "x = []\n",
        "for row in reader:\n",
        "  n+=1\n",
        "  try:\n",
        "    a,b,c,d = float(row[10]),float(row[11]),float(row[12]),float(row[13])\n",
        "    hd += haversine(a,b,c,d)\n",
        "    #print(hd)\n",
        "    x.append(haversine(float(row[10]),float(row[11]),float(row[12]),float(row[13])))\n",
        "  except Exception as e:\n",
        "    ex_dp +=1\n",
        "    #print(float(row[10]),float(row[11]),float(row[12]),float(row[13]))\n",
        "    #print(e)\n",
        "  #if n==5000:\n",
        "    #break\n",
        "       \n",
        "\n",
        "    "
      ],
      "id": "45de5fcd-d52b-4ea5-a20a-def010f9b232"
    },
    {
      "cell_type": "code",
      "execution_count": null,
      "metadata": {
        "colab": {
          "base_uri": "https://localhost:8080/"
        },
        "id": "84f27182-db74-48f6-978e-b55fcea0c257",
        "outputId": "248369fb-b37c-4093-cc1a-6822e7cefe6f"
      },
      "outputs": [
        {
          "output_type": "stream",
          "name": "stdout",
          "text": [
            "Average Haversine Distance = 19.03913105447283\n"
          ]
        }
      ],
      "source": [
        "\n",
        "print(\"Average Haversine Distance =\", hd/(n-ex_dp) )\n"
      ],
      "id": "84f27182-db74-48f6-978e-b55fcea0c257"
    },
    {
      "cell_type": "code",
      "execution_count": null,
      "metadata": {
        "colab": {
          "base_uri": "https://localhost:8080/"
        },
        "id": "pgfOqyGWbqCA",
        "outputId": "f3daa4b4-c4ba-4f06-ce2f-f79faaa6d577"
      },
      "outputs": [
        {
          "output_type": "stream",
          "name": "stdout",
          "text": [
            "[4.716460356450267, 3.9715565387388247, 0.0, 2.1382891750434063, 1.0478718677188192]\n",
            "15610.725166027281 0.0\n"
          ]
        }
      ],
      "source": [
        "print(x[:5])\n",
        "mx = max(x)\n",
        "mn = min(x)\n",
        "print(mx,mn)"
      ],
      "id": "pgfOqyGWbqCA"
    },
    {
      "cell_type": "code",
      "execution_count": null,
      "metadata": {
        "colab": {
          "base_uri": "https://localhost:8080/",
          "height": 771
        },
        "id": "ba3ff8d6-840c-4f80-b8a7-5906d437c2ee",
        "outputId": "7d7142ad-aa71-435f-cc5c-fe6c83ec982c"
      },
      "outputs": [
        {
          "output_type": "stream",
          "name": "stdout",
          "text": [
            "[4.716460356450267, 3.9715565387388247, 0.0, 2.1382891750434063, 1.0478718677188192]\n"
          ]
        },
        {
          "output_type": "display_data",
          "data": {
            "text/plain": [
              "<Figure size 720x504 with 1 Axes>"
            ],
            "image/png": "[encoded data removed]"
          },
          "metadata": {}
        },
        {
          "output_type": "display_data",
          "data": {
            "text/plain": [
              "<Figure size 720x360 with 1 Axes>"
            ],
            "image/png": "[encoded data removed]"
          },
          "metadata": {}
        }
      ],
      "source": [
        "print(x[:5])\n",
        "#import matplotlib\n",
        "from matplotlib import pyplot as plt\n",
        "plt.style.use('seaborn')\n",
        "import numpy as np\n",
        " \n",
        "# Creating histogram\n",
        "fig, ax = plt.subplots(figsize =(10, 7))\n",
        "ax.hist(x, bins = [0,5,10,15,20,25,30])\n",
        " \n",
        "# Show plot\n",
        "plt.show()\n",
        "\n",
        "fig, ax = plt.subplots(figsize =(10, 5))\n",
        "ax.hist(x, bins = [0,2500, 5000,7500,10000,12500])\n",
        " \n",
        "# Show plot\n",
        "plt.show()"
      ],
      "id": "ba3ff8d6-840c-4f80-b8a7-5906d437c2ee"
    },
    {
      "cell_type": "markdown",
      "metadata": {
        "id": "e4bIf70JZvNt"
      },
      "source": [
        "##Part 7)"
      ],
      "id": "e4bIf70JZvNt"
    },
    {
      "cell_type": "code",
      "execution_count": null,
      "metadata": {
        "colab": {
          "base_uri": "https://localhost:8080/"
        },
        "id": "tMm9b8DRZ3XI",
        "outputId": "eb038703-41f1-4ca0-ec79-662875807e04"
      },
      "outputs": [
        {
          "output_type": "stream",
          "name": "stdout",
          "text": [
            "Drive already mounted at /content/gdrive; to attempt to forcibly remount, call drive.mount(\"/content/gdrive\", force_remount=True).\n",
            "13461 33382 3 15 4 11 7280\n"
          ]
        }
      ],
      "source": [
        "from math import radians, cos, sin, asin, sqrt\n",
        "\n",
        "import csv\n",
        "#https://drive.google.com/file/d/13gclMmH86q8pwj0qUfTbAjl595B2rov6/view?usp=sharing\n",
        "from google.colab import drive\n",
        "drive.mount('/content/gdrive') \n",
        "from google.colab import files\n",
        "#uploaded = files.upload()\n",
        "#import io\n",
        "#reader = pd.read_csv(io.BytesIO(uploaded['Filename.csv']))\n",
        "\n",
        "#fn = 'trip_data_6.csv'\n",
        "n=0\n",
        "med = dict()\n",
        "hack_l = dict()\n",
        "vid = dict()\n",
        "rc= dict()\n",
        "snff= dict()\n",
        "pc = dict()\n",
        "tt = dict()\n",
        "f = open('gdrive/My Drive/trip_data_12.csv', 'r')\n",
        "reader = csv.reader(f)\n",
        "for row in reader:\n",
        "  if row[0] in med:\n",
        "    med[row[0]]+=1\n",
        "  else:\n",
        "    med[row[0]]=1\n",
        "\n",
        "  if row[1] in hack_l:\n",
        "    hack_l[row[1]]+=1\n",
        "  else:\n",
        "    hack_l[row[1]]=1\n",
        "\n",
        "  if row[2] in vid:\n",
        "    vid[row[2]]+=1\n",
        "  else:\n",
        "    vid[row[2]]=1\n",
        "\n",
        "  if row[3] in rc:\n",
        "    rc[row[3]]+=1\n",
        "  else:\n",
        "    rc[row[3]]=1\n",
        "\n",
        "  if row[4] in snff:\n",
        "    snff[row[4]]+=1\n",
        "  else:\n",
        "    snff[row[4]]=1\n",
        "\n",
        "  if row[7] in pc:\n",
        "    pc[row[7]]+=1\n",
        "  else:\n",
        "    pc[row[7]]=1\n",
        "  \n",
        "  if row[8] in tt:\n",
        "    tt[row[8]] +=1\n",
        "  else:\n",
        "    tt[row[8]] =1\n",
        "  n+=1\n",
        "\n",
        "print(len(med), len(hack_l), len(vid), len(rc), len(snff), len(pc),len(tt))\n"
      ],
      "id": "tMm9b8DRZ3XI"
    },
    {
      "cell_type": "code",
      "execution_count": null,
      "metadata": {
        "colab": {
          "base_uri": "https://localhost:8080/"
        },
        "id": "vYRq7ilAaY40",
        "outputId": "69b41af6-d2bf-42c8-86b3-2469c266feaf"
      },
      "outputs": [
        {
          "output_type": "stream",
          "name": "stdout",
          "text": [
            "Drive already mounted at /content/gdrive; to attempt to forcibly remount, call drive.mount(\"/content/gdrive\", force_remount=True).\n",
            "4329 38909 64165 56642 89437\n"
          ]
        }
      ],
      "source": [
        "import csv\n",
        "#https://drive.google.com/file/d/13gclMmH86q8pwj0qUfTbAjl595B2rov6/view?usp=sharing\n",
        "from google.colab import drive\n",
        "drive.mount('/content/gdrive') \n",
        "from google.colab import files\n",
        "f = open('gdrive/My Drive/trip_data_12.csv', 'r')\n",
        "reader = csv.reader(f)\n",
        "\n",
        "td_9 = dict()\n",
        "plong_10 = dict()\n",
        "plat_11 = dict()\n",
        "dlong_12 = dict()\n",
        "dlat_13 = dict()\n",
        "for row in reader:\n",
        "  if row[9] in td_9:\n",
        "    td_9[row[9]]+=1\n",
        "  else:\n",
        "    td_9[row[9]]=1 \n",
        "\n",
        "  if row[10] in plong_10:\n",
        "    plong_10[row[10]]+=1\n",
        "  else:\n",
        "    plong_10[row[10]]=1 \n",
        "\n",
        "  if row[11] in plat_11:\n",
        "    plat_11[row[11]]+=1\n",
        "  else:\n",
        "    plat_11[row[11]]=1\n",
        "\n",
        "  if row[12] in dlong_12:\n",
        "    dlong_12[row[12]]+=1\n",
        "  else:\n",
        "    dlong_12[row[12]]=1\n",
        "\n",
        "  if row[13] in dlat_13:\n",
        "    dlat_13[row[13]]+=1\n",
        "  else:\n",
        "    dlat_13[row[13]]=1\n",
        "\n",
        "print(len(td_9),len(plong_10),len(plat_11),len(dlong_12),len(dlat_13))"
      ],
      "id": "vYRq7ilAaY40"
    },
    {
      "cell_type": "code",
      "execution_count": null,
      "metadata": {
        "colab": {
          "base_uri": "https://localhost:8080/"
        },
        "id": "3IEbWsxSnXD3",
        "outputId": "89a5c8fd-08fc-48af-8ef0-5faef281ec94"
      },
      "outputs": [
        {
          "output_type": "stream",
          "name": "stdout",
          "text": [
            "{' rate_code': 1, '1': 13638315, '2': 257599, '3': 24971, '5': 41889, '4': 4602, '0': 3537, '8': 5, '6': 180, '13': 2, '210': 8, '7': 6, '9': 2, '65': 1, '15': 1}\n"
          ]
        }
      ],
      "source": [
        "print(rc)"
      ],
      "id": "3IEbWsxSnXD3"
    },
    {
      "cell_type": "markdown",
      "metadata": {
        "id": "kza1-oS18dmv"
      },
      "source": [
        "### Part 8"
      ],
      "id": "kza1-oS18dmv"
    },
    {
      "cell_type": "code",
      "execution_count": null,
      "metadata": {
        "colab": {
          "base_uri": "https://localhost:8080/"
        },
        "id": "ofgpEERasnIa",
        "outputId": "8dbc73f7-bd26-48ba-dc66-1512d4377f58"
      },
      "outputs": [
        {
          "output_type": "stream",
          "name": "stdout",
          "text": [
            "Drive already mounted at /content/gdrive; to attempt to forcibly remount, call drive.mount(\"/content/gdrive\", force_remount=True).\n"
          ]
        }
      ],
      "source": [
        "import csv\n",
        "#https://drive.google.com/file/d/13gclMmH86q8pwj0qUfTbAjl595B2rov6/view?usp=sharing\n",
        "from google.colab import drive\n",
        "drive.mount('/content/gdrive') \n",
        "from google.colab import files\n",
        "f = open('gdrive/My Drive/trip_data_12.csv', 'r')\n",
        "reader = csv.reader(f)"
      ],
      "id": "ofgpEERasnIa"
    },
    {
      "cell_type": "code",
      "execution_count": null,
      "metadata": {
        "colab": {
          "base_uri": "https://localhost:8080/"
        },
        "id": "9j1OV3ot9J1A",
        "outputId": "6975e513-7af8-4540-d8a3-d8fcb056984f"
      },
      "outputs": [
        {
          "output_type": "stream",
          "name": "stdout",
          "text": [
            "invalid literal for int() with base 10: ' rate_code'\n",
            "invalid literal for int() with base 10: ' passenger_count'\n",
            "invalid literal for int() with base 10: ' trip_time_in_secs'\n",
            "could not convert string to float: ' trip_distance'\n",
            "13971119\n"
          ]
        }
      ],
      "source": [
        "min_rc = 0\n",
        "max_rc = 0\n",
        "min_pc= 0\n",
        "max_pc = 0\n",
        "min_tis = 0\n",
        "max_tis= 0\n",
        "min_td = 0\n",
        "max_td = 0\n",
        "n=0\n",
        "for row in reader:\n",
        "  #print(row[3])\n",
        "  n+=1\n",
        "  try:\n",
        "    if int(row[3]) <= min_rc or min_rc ==0:\n",
        "      min_rc = int(row[3])\n",
        "    if int(row[3]) >= max_rc or max_rc ==0:\n",
        "      max_rc = int(row[3])\n",
        "  except Exception as e:\n",
        "    print(e)\n",
        "  try:\n",
        "    if int(row[7]) <= min_pc or min_pc ==0:\n",
        "      min_pc = int(row[7])\n",
        "    if int(row[7]) >= max_pc or max_pc ==0:\n",
        "      max_pc = int(row[7])\n",
        "  except Exception as e:\n",
        "    print(e)\n",
        "  try:\n",
        "    if int(row[8]) <= min_tis or min_tis ==0:\n",
        "      min_tis = int(row[8])\n",
        "    if int(row[8]) >= max_tis or max_tis ==0:\n",
        "      max_tis = int(row[8])\n",
        "  except Exception as e:\n",
        "    print(e)\n",
        "  try:\n",
        "    if float(row[9]) <= min_td or min_td ==0:\n",
        "      min_td = float(row[9])\n",
        "    if float(row[9]) >= max_tis or max_td ==0:\n",
        "      max_td = float(row[9])\n",
        "  except Exception as e:\n",
        "    print(e)\n",
        "\n",
        "\n",
        "print(n)\n",
        "\n"
      ],
      "id": "9j1OV3ot9J1A"
    },
    {
      "cell_type": "code",
      "execution_count": null,
      "metadata": {
        "colab": {
          "base_uri": "https://localhost:8080/"
        },
        "id": "ENGvNcsPkxpF",
        "outputId": "00392280-216b-4532-9cd7-4d5d7f35fc47"
      },
      "outputs": [
        {
          "output_type": "stream",
          "name": "stdout",
          "text": [
            "210 1\n",
            "9 1\n",
            "10800 120\n",
            "3.9 0.08\n"
          ]
        }
      ],
      "source": [
        "print(max_rc, min_rc)\n",
        "print(max_pc, min_pc)\n",
        "print(max_tis, min_tis)\n",
        "print(max_td, min_td)"
      ],
      "id": "ENGvNcsPkxpF"
    },
    {
      "cell_type": "markdown",
      "metadata": {
        "id": "VOXwcYNjnwDm"
      },
      "source": [
        "### Part 9"
      ],
      "id": "VOXwcYNjnwDm"
    },
    {
      "cell_type": "code",
      "execution_count": null,
      "metadata": {
        "colab": {
          "base_uri": "https://localhost:8080/"
        },
        "id": "psOmkVuqk4h-",
        "outputId": "d20cf8e9-6e58-42d2-a946-0b680cfa89f5"
      },
      "outputs": [
        {
          "output_type": "stream",
          "name": "stdout",
          "text": [
            "Drive already mounted at /content/gdrive; to attempt to forcibly remount, call drive.mount(\"/content/gdrive\", force_remount=True).\n"
          ]
        }
      ],
      "source": [
        "import csv\n",
        "#https://drive.google.com/file/d/13gclMmH86q8pwj0qUfTbAjl595B2rov6/view?usp=sharing\n",
        "from google.colab import drive\n",
        "drive.mount('/content/gdrive') \n",
        "from google.colab import files\n",
        "f = open('gdrive/My Drive/trip_data_12.csv', 'r')\n",
        "reader = csv.reader(f)"
      ],
      "id": "psOmkVuqk4h-"
    },
    {
      "cell_type": "code",
      "execution_count": null,
      "metadata": {
        "colab": {
          "base_uri": "https://localhost:8080/"
        },
        "id": "YqxDUJVtoH_O",
        "outputId": "93506022-ad35-436a-f175-30326beb01b4"
      },
      "outputs": [
        {
          "output_type": "stream",
          "name": "stdout",
          "text": [
            "['medallion', ' hack_license', ' vendor_id', ' rate_code', ' store_and_fwd_flag', ' pickup_datetime', ' dropoff_datetime', ' passenger_count', ' trip_time_in_secs', ' trip_distance', ' pickup_longitude', ' pickup_latitude', ' dropoff_longitude', ' dropoff_latitude']\n"
          ]
        }
      ],
      "source": [
        "for row in reader:\n",
        "  print(row)\n",
        "  break"
      ],
      "id": "YqxDUJVtoH_O"
    },
    {
      "cell_type": "code",
      "execution_count": null,
      "metadata": {
        "colab": {
          "base_uri": "https://localhost:8080/"
        },
        "id": "j1b37vfPpFAb",
        "outputId": "16b894c0-80b2-43d4-9c2a-25d578b23700"
      },
      "outputs": [
        {
          "output_type": "stream",
          "name": "stdout",
          "text": [
            "Drive already mounted at /content/gdrive; to attempt to forcibly remount, call drive.mount(\"/content/gdrive\", force_remount=True).\n",
            "time data ' pickup_datetime' does not match format '%Y-%m-%d %H:%M:%S'\n",
            "invalid literal for int() with base 10: ' passenger_count'\n"
          ]
        }
      ],
      "source": [
        "import datetime,csv\n",
        "#fn = 'trip_data_12.csv'\n",
        "import csv\n",
        "#https://drive.google.com/file/d/13gclMmH86q8pwj0qUfTbAjl595B2rov6/view?usp=sharing\n",
        "from google.colab import drive\n",
        "drive.mount('/content/gdrive') \n",
        "from google.colab import files\n",
        "#uploaded = files.upload()\n",
        "#import io\n",
        "#reader = pd.read_csv(io.BytesIO(uploaded['Filename.csv']))\n",
        "\n",
        "#fn = 'trip_data_6.csv'\n",
        "\n",
        "f = open('gdrive/My Drive/trip_data_12.csv', 'r')\n",
        "reader = csv.reader(f)\n",
        "exp =0\n",
        "n=0\n",
        "pcl =  [0,0,0,0,0,0,0,0,0,0,0,0,0,0,0,0,0,0,0,0,0,0,0,0]\n",
        "hc =  [0,0,0,0,0,0,0,0,0,0,0,0,0,0,0,0,0,0,0,0,0,0,0,0]\n",
        "\n",
        "#f = open(fn, 'r')\n",
        "#reader = csv.reader(f)\n",
        "for row in reader:\n",
        "  n+=1\n",
        "  try:\n",
        "    dts = row[5]\n",
        "    dto = datetime.datetime.strptime(dts,\"%Y-%m-%d %H:%M:%S\")\n",
        "  except Exception as e:\n",
        "    exp+=1\n",
        "    print(e)\n",
        "  h = dto.hour  \n",
        "  try:\n",
        "    ipc = int(row[7])    \n",
        "    hc[h]+=1\n",
        "    pcl[h]+=ipc\n",
        "  except Exception as e:\n",
        "    print(e)\n",
        "\n",
        "        #except Exception as e:\n",
        "         # exp+=1\n",
        "          #print(e)\n",
        "\n"
      ],
      "id": "j1b37vfPpFAb"
    },
    {
      "cell_type": "code",
      "execution_count": null,
      "metadata": {
        "id": "CBC3n1uCILbQ"
      },
      "outputs": [],
      "source": [
        "averages = []\n",
        "\n",
        "for i in range(len(hc)):\n",
        "  averages.append(pcl[i] / hc[i])"
      ],
      "id": "CBC3n1uCILbQ"
    },
    {
      "cell_type": "code",
      "execution_count": null,
      "metadata": {
        "colab": {
          "base_uri": "https://localhost:8080/",
          "height": 340
        },
        "id": "6xMizOvh12_-",
        "outputId": "9a9c64e2-b6e1-40c5-b13e-a764db0304df"
      },
      "outputs": [
        {
          "output_type": "display_data",
          "data": {
            "text/plain": [
              "<Figure size 1440x432 with 1 Axes>"
            ],
            "image/png": "[encoded data removed]"
          },
          "metadata": {}
        }
      ],
      "source": [
        "\n",
        "from matplotlib import pyplot as plt\n",
        "plt.style.use('seaborn')\n",
        "import numpy as np\n",
        " \n",
        "# Creating histogram\n",
        "plt.figure(figsize=(20,6))\n",
        "plt.xlabel('Hour of the day')\n",
        "plt.ylabel('Average number of taxi passengers')\n",
        "plt.title('Average number of taxi passengers for each hour of the day')\n",
        "plt.bar(x=range(0,24), height=averages)\n",
        "plt.show()"
      ],
      "id": "6xMizOvh12_-"
    },
    {
      "cell_type": "markdown",
      "metadata": {
        "id": "1a398964-334c-413d-b937-8ca5e3070b49"
      },
      "source": [
        "## Part 10) & Part 11)"
      ],
      "id": "1a398964-334c-413d-b937-8ca5e3070b49"
    },
    {
      "cell_type": "code",
      "execution_count": null,
      "metadata": {
        "colab": {
          "base_uri": "https://localhost:8080/"
        },
        "id": "25549ff6-8073-45d2-acf6-1207c5d4fa14",
        "outputId": "c5b73dfa-0819-4bae-d647-b5ea00b16c90"
      },
      "outputs": [
        {
          "output_type": "stream",
          "name": "stdout",
          "text": [
            "Drive already mounted at /content/gdrive; to attempt to forcibly remount, call drive.mount(\"/content/gdrive\", force_remount=True).\n",
            "13971119 13972\n"
          ]
        },
        {
          "output_type": "execute_result",
          "data": {
            "text/plain": [
              "<function TextIOWrapper.close()>"
            ]
          },
          "metadata": {},
          "execution_count": 23
        }
      ],
      "source": [
        "import csv\n",
        "from google.colab import drive\n",
        "drive.mount('/content/gdrive') \n",
        "from google.colab import files\n",
        "#uploaded = files.upload()\n",
        "#import io\n",
        "#reader = pd.read_csv(io.BytesIO(uploaded['Filename.csv']))\n",
        "\n",
        "#fn = 'trip_data_6.csv'\n",
        "\n",
        "f = open('gdrive/My Drive/trip_data_12.csv', 'r')\n",
        "reader = csv.reader(f)\n",
        "fnew = open('new.csv', 'w')\n",
        "fnew.write('')\n",
        "fnew.close()\n",
        "fnew = open('new.csv', 'w')\n",
        "writer = csv.writer(fnew,delimiter=',',lineterminator='\\n')\n",
        "\n",
        "n = 0\n",
        "nn=0\n",
        "for row in reader:\n",
        "    if n % 1000 == 0:\n",
        "        nn+=1\n",
        "        writer.writerow(row)\n",
        "    n+=1\n",
        "print(n,nn)\n",
        "fnew.close"
      ],
      "id": "25549ff6-8073-45d2-acf6-1207c5d4fa14"
    },
    {
      "cell_type": "code",
      "execution_count": null,
      "metadata": {
        "colab": {
          "base_uri": "https://localhost:8080/",
          "height": 240
        },
        "id": "c8cff0ac-7380-453e-8552-6850deebe558",
        "outputId": "ef163c0d-1826-4b8b-946f-e4ddaeaa0f01"
      },
      "outputs": [
        {
          "output_type": "error",
          "ename": "FileNotFoundError",
          "evalue": "ignored",
          "traceback": [
            "\u001b[0;31m---------------------------------------------------------------------------\u001b[0m",
            "\u001b[0;31mFileNotFoundError\u001b[0m                         Traceback (most recent call last)",
            "\u001b[0;32m<ipython-input-1-883144423e7a>\u001b[0m in \u001b[0;36m<module>\u001b[0;34m\u001b[0m\n\u001b[1;32m      1\u001b[0m \u001b[0;32mimport\u001b[0m \u001b[0mcsv\u001b[0m\u001b[0;34m\u001b[0m\u001b[0;34m\u001b[0m\u001b[0m\n\u001b[1;32m      2\u001b[0m \u001b[0;34m\u001b[0m\u001b[0m\n\u001b[0;32m----> 3\u001b[0;31m \u001b[0mf\u001b[0m \u001b[0;34m=\u001b[0m \u001b[0mopen\u001b[0m\u001b[0;34m(\u001b[0m\u001b[0;34m'gdrive/My Drive/new.csv'\u001b[0m\u001b[0;34m,\u001b[0m \u001b[0;34m'r'\u001b[0m\u001b[0;34m)\u001b[0m\u001b[0;34m\u001b[0m\u001b[0;34m\u001b[0m\u001b[0m\n\u001b[0m\u001b[1;32m      4\u001b[0m \u001b[0mreader\u001b[0m \u001b[0;34m=\u001b[0m \u001b[0mcsv\u001b[0m\u001b[0;34m.\u001b[0m\u001b[0mreader\u001b[0m\u001b[0;34m(\u001b[0m\u001b[0mf\u001b[0m\u001b[0;34m)\u001b[0m\u001b[0;34m\u001b[0m\u001b[0;34m\u001b[0m\u001b[0m\n\u001b[1;32m      5\u001b[0m \u001b[0;32mfor\u001b[0m \u001b[0mrow\u001b[0m \u001b[0;32min\u001b[0m \u001b[0mreader\u001b[0m\u001b[0;34m:\u001b[0m\u001b[0;34m\u001b[0m\u001b[0;34m\u001b[0m\u001b[0m\n",
            "\u001b[0;31mFileNotFoundError\u001b[0m: [Errno 2] No such file or directory: 'gdrive/My Drive/new.csv'"
          ]
        }
      ],
      "source": [
        "import csv\n",
        "\n",
        "f = open('gdrive/My Drive/new.csv', 'r')\n",
        "reader = csv.reader(f)\n",
        "for row in reader:\n",
        "    n+=1\n",
        "print(n)    "
      ],
      "id": "c8cff0ac-7380-453e-8552-6850deebe558"
    },
    {
      "cell_type": "code",
      "execution_count": null,
      "metadata": {
        "colab": {
          "base_uri": "https://localhost:8080/"
        },
        "id": "2fbf40e4-f5df-407e-97eb-e5ab5f2e2cf9",
        "outputId": "be49dabe-a014-436d-d429-fad15982cf7b"
      },
      "outputs": [
        {
          "output_type": "stream",
          "name": "stdout",
          "text": [
            "time data ' pickup_datetime' does not match format '%Y-%m-%d %H:%M:%S'\n",
            "invalid literal for int() with base 10: ' passenger_count'\n"
          ]
        }
      ],
      "source": [
        "import datetime,csv\n",
        "#fn = 'trip_data_6.csv'\n",
        "#import csv\n",
        "#https://drive.google.com/file/d/13gclMmH86q8pwj0qUfTbAjl595B2rov6/view?usp=sharing\n",
        "#from google.colab import drive\n",
        "#drive.mount('/content/gdrive') \n",
        "#from google.colab import files\n",
        "#uploaded = files.upload()\n",
        "#import io\n",
        "#reader = pd.read_csv(io.BytesIO(uploaded['Filename.csv']))\n",
        "\n",
        "#fn = 'new.csv'\n",
        "\n",
        "\n",
        "exp =0\n",
        "n=0\n",
        "pcl =  [0,0,0,0,0,0,0,0,0,0,0,0,0,0,0,0,0,0,0,0,0,0,0,0]\n",
        "hc =  [0,0,0,0,0,0,0,0,0,0,0,0,0,0,0,0,0,0,0,0,0,0,0,0]\n",
        "\n",
        "f = open('gdrive/My Drive/new.csv', 'r')\n",
        "reader = csv.reader(f)\n",
        "#f = open(fn, 'r')\n",
        "#reader = csv.reader(f)\n",
        "for row in reader:\n",
        "  n+=1\n",
        "  try:\n",
        "    dts = row[5]\n",
        "    dto = datetime.datetime.strptime(dts,\"%Y-%m-%d %H:%M:%S\")\n",
        "  except Exception as e:\n",
        "    exp+=1\n",
        "    print(e)\n",
        "  h = dto.hour  \n",
        "  try:\n",
        "    ipc = int(row[7])    \n",
        "    hc[h]+=1\n",
        "    pcl[h]+=ipc\n",
        "  except Exception as e:\n",
        "    print(e)\n",
        "\n",
        "        #except Exception as e:\n",
        "         # exp+=1\n",
        "          #print(e)\n",
        "\n"
      ],
      "id": "2fbf40e4-f5df-407e-97eb-e5ab5f2e2cf9"
    },
    {
      "cell_type": "code",
      "execution_count": null,
      "metadata": {
        "id": "c15674de-1e46-43c3-9a7e-803dc5385180"
      },
      "outputs": [],
      "source": [
        "averages = []\n",
        "\n",
        "for i in range(len(hc)):\n",
        "  averages.append(pcl[i] / hc[i])"
      ],
      "id": "c15674de-1e46-43c3-9a7e-803dc5385180"
    },
    {
      "cell_type": "code",
      "execution_count": null,
      "metadata": {
        "colab": {
          "base_uri": "https://localhost:8080/",
          "height": 340
        },
        "id": "d3eafa24-a0e2-4b3a-96ee-785005503542",
        "outputId": "1a334166-b62f-49f6-d18a-c568225ca0e5"
      },
      "outputs": [
        {
          "output_type": "display_data",
          "data": {
            "text/plain": [
              "<Figure size 1440x432 with 1 Axes>"
            ],
            "image/png": "[encoded data removed]"
          },
          "metadata": {}
        }
      ],
      "source": [
        "\n",
        "from matplotlib import pyplot as plt\n",
        "plt.style.use('seaborn')\n",
        "import numpy as np\n",
        " \n",
        "# Creating histogram\n",
        "plt.figure(figsize=(20,6))\n",
        "plt.xlabel('Hour of the day')\n",
        "plt.ylabel('Average number of taxi passengers')\n",
        "plt.title('Average number of taxi passengers for each hour of the day')\n",
        "plt.bar(x=range(0,24), height=averages)\n",
        "plt.show()"
      ],
      "id": "d3eafa24-a0e2-4b3a-96ee-785005503542"
    },
    {
      "cell_type": "code",
      "execution_count": null,
      "metadata": {
        "colab": {
          "base_uri": "https://localhost:8080/"
        },
        "id": "e15805b3-2b5e-4a64-9470-6a862e219587",
        "outputId": "34240155-7952-4335-cee1-28522cd2e233"
      },
      "outputs": [
        {
          "output_type": "execute_result",
          "data": {
            "text/plain": [
              "0"
            ]
          },
          "metadata": {},
          "execution_count": 28
        }
      ],
      "source": [
        "0%1000"
      ],
      "id": "e15805b3-2b5e-4a64-9470-6a862e219587"
    },
    {
      "cell_type": "code",
      "execution_count": null,
      "metadata": {
        "id": "0c66d2d3-78ce-46b0-a0bc-c42438d26d12"
      },
      "outputs": [],
      "source": [
        "import datetime,csv\n",
        "ml = ['12','10']\n",
        "\n",
        "\n",
        "f = open('gdrive/My Drive/new.csv', 'r')\n",
        "reader = csv.reader(f)\n",
        "\n",
        "f2 = open('oct_dec_subset.csv','w')\n",
        "f2.write('')\n",
        "f2.close()\n",
        "\n",
        "f2 = open('oct_dec_subset.csv','a')\n",
        "writer = csv.writer(f2,delimiter=',',lineterminator='\\n')\n",
        "for i, row in enumerate(reader):\n",
        "    if i > 0:\n",
        "        dt = row[4].split('/')\n",
        "        ms = dt[0]\n",
        "        if ms in ml:\n",
        "            writer.writerow(row)\n",
        "    else:\n",
        "        writer.writerow(row)\n",
        "f.close()\n",
        "f2.close()"
      ],
      "id": "0c66d2d3-78ce-46b0-a0bc-c42438d26d12"
    }
  ],
  "metadata": {
    "colab": {
      "collapsed_sections": [],
      "provenance": []
    },
    "kernelspec": {
      "display_name": "Python 3 (ipykernel)",
      "language": "python",
      "name": "python3"
    },
    "language_info": {
      "codemirror_mode": {
        "name": "ipython",
        "version": 3
      },
      "file_extension": ".py",
      "mimetype": "text/x-python",
      "name": "python",
      "nbconvert_exporter": "python",
      "pygments_lexer": "ipython3",
      "version": "3.10.6"
    }
  },
  "nbformat": 4,
  "nbformat_minor": 5
}